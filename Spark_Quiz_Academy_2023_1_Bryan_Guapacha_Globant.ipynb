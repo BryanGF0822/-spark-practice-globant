{
  "nbformat": 4,
  "nbformat_minor": 0,
  "metadata": {
    "colab": {
      "provenance": [],
      "include_colab_link": true
    },
    "kernelspec": {
      "name": "python3",
      "display_name": "Python 3"
    },
    "language_info": {
      "name": "python"
    }
  },
  "cells": [
    {
      "cell_type": "markdown",
      "metadata": {
        "id": "view-in-github",
        "colab_type": "text"
      },
      "source": [
        "<a href=\"https://colab.research.google.com/github/BryanGF0822/spark-practice-globant/blob/main/Spark_Quiz_Academy_2023_1_Bryan_Guapacha_Globant.ipynb\" target=\"_parent\"><img src=\"https://colab.research.google.com/assets/colab-badge.svg\" alt=\"Open In Colab\"/></a>"
      ]
    },
    {
      "cell_type": "markdown",
      "metadata": {
        "id": "BG7XJwoOx-Ni"
      },
      "source": [
        "# Getting Started with Spark Standalone cluster\n",
        "\n",
        "Before you start the test, make sure you run all the initial steps to setup your Spark standalone cluster.\n",
        "\n",
        "## Mount Google Drive"
      ]
    },
    {
      "cell_type": "code",
      "metadata": {
        "id": "kqa6iw2hxnp_",
        "colab": {
          "base_uri": "https://localhost:8080/"
        },
        "outputId": "6daadd11-334d-4473-e9a6-ea77e3fdc8ba"
      },
      "source": [
        "from google.colab import drive\n",
        "drive.mount('/content/gdrive')"
      ],
      "execution_count": 1,
      "outputs": [
        {
          "output_type": "stream",
          "name": "stdout",
          "text": [
            "Drive already mounted at /content/gdrive; to attempt to forcibly remount, call drive.mount(\"/content/gdrive\", force_remount=True).\n"
          ]
        }
      ]
    },
    {
      "cell_type": "markdown",
      "metadata": {
        "id": "rxDH0kQOyEcp"
      },
      "source": [
        "# Spark Quiz \n",
        "# Getting Started with Spark Instalation\n",
        "\n",
        "Before you start the test, make sure you run all the initial steps to setup your Spark standalone cluster."
      ]
    },
    {
      "cell_type": "code",
      "metadata": {
        "id": "jlZJ6GQiyIiC",
        "colab": {
          "base_uri": "https://localhost:8080/"
        },
        "outputId": "f642ed26-8c63-47a8-95b0-22cba8680a96"
      },
      "source": [
        "#check environment\n",
        "!python --version\n",
        "!java -version"
      ],
      "execution_count": 2,
      "outputs": [
        {
          "output_type": "stream",
          "name": "stdout",
          "text": [
            "Python 3.9.16\n",
            "openjdk version \"11.0.18\" 2023-01-17\n",
            "OpenJDK Runtime Environment (build 11.0.18+10-post-Ubuntu-0ubuntu120.04.1)\n",
            "OpenJDK 64-Bit Server VM (build 11.0.18+10-post-Ubuntu-0ubuntu120.04.1, mixed mode, sharing)\n"
          ]
        }
      ]
    },
    {
      "cell_type": "code",
      "metadata": {
        "id": "vAzLwsJgyLxt",
        "colab": {
          "base_uri": "https://localhost:8080/"
        },
        "outputId": "d67eb14f-85fe-40cb-82e1-065099274e2e"
      },
      "source": [
        "!rm spark-3.1.1-bin-hadoop3.2\n",
        "!ls -l\n",
        "!pwd"
      ],
      "execution_count": 3,
      "outputs": [
        {
          "output_type": "stream",
          "name": "stdout",
          "text": [
            "rm: cannot remove 'spark-3.1.1-bin-hadoop3.2': No such file or directory\n",
            "total 292380\n",
            "drwx------  6 root root      4096 Mar 27 01:34 gdrive\n",
            "drwxr-xr-x  2 root root      4096 Mar 27 02:36 ml-latest-small\n",
            "drwxr-xr-x  2 root root      4096 Mar 27 02:37 moves-rating.parquet\n",
            "drwxr-xr-x  2 root root      4096 Mar 27 02:37 movies.parquet\n",
            "drwxr-xr-x  1 root root      4096 Mar 23 18:57 sample_data\n",
            "drwxr-xr-x 14  501 1000      4096 Mar 27 01:42 spark-3.3.2\n",
            "drwxr-xr-x 13  501 1000      4096 Feb 10 20:40 spark-3.3.2-bin-hadoop3\n",
            "-rw-r--r--  1 root root 299360284 Feb 10 21:28 spark-3.tgz\n",
            "drwxr-xr-x  2 root root      4096 Mar 27 01:50 tags.parquet\n",
            "/content\n"
          ]
        }
      ]
    },
    {
      "cell_type": "code",
      "metadata": {
        "id": "lGdTPsciyOmM",
        "colab": {
          "base_uri": "https://localhost:8080/"
        },
        "outputId": "71b6b6b9-dbdd-439c-8d8b-8ef2ef8350f1"
      },
      "source": [
        "#Install Java 8 and check\n",
        "!apt-get install openjdk-8-jdk-headless -qq > /dev/null\n",
        "!ls -l /usr/lib/jvm/"
      ],
      "execution_count": 4,
      "outputs": [
        {
          "output_type": "stream",
          "name": "stdout",
          "text": [
            "total 8\n",
            "lrwxrwxrwx 1 root root   25 Jul 17  2019 default-java -> java-1.11.0-openjdk-amd64\n",
            "lrwxrwxrwx 1 root root   21 Jan 20 09:07 java-1.11.0-openjdk-amd64 -> java-11-openjdk-amd64\n",
            "drwxr-xr-x 9 root root 4096 Mar 23 18:50 java-11-openjdk-amd64\n",
            "lrwxrwxrwx 1 root root   20 Jan 24 19:02 java-1.8.0-openjdk-amd64 -> java-8-openjdk-amd64\n",
            "drwxr-xr-x 7 root root 4096 Mar 27 01:34 java-8-openjdk-amd64\n"
          ]
        }
      ]
    },
    {
      "cell_type": "code",
      "metadata": {
        "id": "xNzc3qOVyQWh",
        "colab": {
          "base_uri": "https://localhost:8080/"
        },
        "outputId": "b81a474b-36e1-4a89-817a-118a7d32ab3d"
      },
      "source": [
        "#Download Spark\n",
        "# download spark3.0.0\n",
        "!wget -O spark-3.tgz q https://dlcdn.apache.org/spark/spark-3.3.2/spark-3.3.2-bin-hadoop3.tgz\n",
        "!tar xf spark-3.tgz\n",
        "!rm spark-3.tgz\n",
        "!mv spark-3.3.2-bin-hadoop3 spark-3.3.2\n",
        "!ls -l"
      ],
      "execution_count": 5,
      "outputs": [
        {
          "output_type": "stream",
          "name": "stdout",
          "text": [
            "--2023-03-27 02:40:31--  http://q/\n",
            "Resolving q (q)... failed: Name or service not known.\n",
            "wget: unable to resolve host address ‘q’\n",
            "--2023-03-27 02:40:31--  https://dlcdn.apache.org/spark/spark-3.3.2/spark-3.3.2-bin-hadoop3.tgz\n",
            "Resolving dlcdn.apache.org (dlcdn.apache.org)... 151.101.2.132, 2a04:4e42::644\n",
            "Connecting to dlcdn.apache.org (dlcdn.apache.org)|151.101.2.132|:443... connected.\n",
            "HTTP request sent, awaiting response... 200 OK\n",
            "Length: 299360284 (285M) [application/x-gzip]\n",
            "Saving to: ‘spark-3.tgz’\n",
            "\n",
            "spark-3.tgz         100%[===================>] 285.49M  98.8MB/s    in 2.9s    \n",
            "\n",
            "2023-03-27 02:40:34 (98.8 MB/s) - ‘spark-3.tgz’ saved [299360284/299360284]\n",
            "\n",
            "FINISHED --2023-03-27 02:40:34--\n",
            "Total wall clock time: 3.2s\n",
            "Downloaded: 1 files, 285M in 2.9s (98.8 MB/s)\n",
            "mv: cannot move 'spark-3.3.2-bin-hadoop3' to 'spark-3.3.2/spark-3.3.2-bin-hadoop3': Directory not empty\n",
            "total 32\n",
            "drwx------  6 root root 4096 Mar 27 01:34 gdrive\n",
            "drwxr-xr-x  2 root root 4096 Mar 27 02:36 ml-latest-small\n",
            "drwxr-xr-x  2 root root 4096 Mar 27 02:37 moves-rating.parquet\n",
            "drwxr-xr-x  2 root root 4096 Mar 27 02:37 movies.parquet\n",
            "drwxr-xr-x  1 root root 4096 Mar 23 18:57 sample_data\n",
            "drwxr-xr-x 14  501 1000 4096 Mar 27 01:42 spark-3.3.2\n",
            "drwxr-xr-x 13  501 1000 4096 Feb 10 20:40 spark-3.3.2-bin-hadoop3\n",
            "drwxr-xr-x  2 root root 4096 Mar 27 01:50 tags.parquet\n"
          ]
        }
      ]
    },
    {
      "cell_type": "code",
      "metadata": {
        "id": "dLPWkCOFyU-J"
      },
      "source": [
        "# install findspark \n",
        "!pip install -q findspark\n",
        "!pip install -q pyspark"
      ],
      "execution_count": 6,
      "outputs": []
    },
    {
      "cell_type": "markdown",
      "metadata": {
        "id": "CFqNMfqXyZcH"
      },
      "source": [
        "## Environment Variables"
      ]
    },
    {
      "cell_type": "code",
      "metadata": {
        "id": "hPFa9BG-yd8_"
      },
      "source": [
        "import os\n",
        "os.environ[\"JAVA_HOME\"] = \"/usr/lib/jvm/java-8-openjdk-amd64\"\n",
        "os.environ[\"SPARK_HOME\"] = \"/content/spark-3.3.2\""
      ],
      "execution_count": 7,
      "outputs": []
    },
    {
      "cell_type": "markdown",
      "metadata": {
        "id": "H9BrzslHygSi"
      },
      "source": [
        "##Quick Installation Test\n",
        "\n",
        "Time to test our spark installation and the version of it."
      ]
    },
    {
      "cell_type": "code",
      "metadata": {
        "id": "reW0gD6Syh-_",
        "colab": {
          "base_uri": "https://localhost:8080/",
          "height": 237
        },
        "outputId": "64ad0697-a645-487d-f56b-062b39e8e640"
      },
      "source": [
        "import findspark\n",
        "findspark.init()\n",
        "\n",
        "import pyspark\n",
        "print(f\"pyspark version {pyspark.__version__}\")\n",
        "\n",
        "from pyspark.sql import SparkSession\n",
        "spark = SparkSession.builder.appName(\"Test_spark\").master(\"local[*]\").getOrCreate()\n",
        "spark\n"
      ],
      "execution_count": 8,
      "outputs": [
        {
          "output_type": "stream",
          "name": "stdout",
          "text": [
            "pyspark version 3.3.2\n"
          ]
        },
        {
          "output_type": "execute_result",
          "data": {
            "text/plain": [
              "<pyspark.sql.session.SparkSession at 0x7f6a0009b0d0>"
            ],
            "text/html": [
              "\n",
              "            <div>\n",
              "                <p><b>SparkSession - in-memory</b></p>\n",
              "                \n",
              "        <div>\n",
              "            <p><b>SparkContext</b></p>\n",
              "\n",
              "            <p><a href=\"http://0d59f6fc55a0:4040\">Spark UI</a></p>\n",
              "\n",
              "            <dl>\n",
              "              <dt>Version</dt>\n",
              "                <dd><code>v3.3.2</code></dd>\n",
              "              <dt>Master</dt>\n",
              "                <dd><code>local[*]</code></dd>\n",
              "              <dt>AppName</dt>\n",
              "                <dd><code>Test_spark</code></dd>\n",
              "            </dl>\n",
              "        </div>\n",
              "        \n",
              "            </div>\n",
              "        "
            ]
          },
          "metadata": {},
          "execution_count": 8
        }
      ]
    },
    {
      "cell_type": "code",
      "metadata": {
        "id": "xLXxRrvwyj93"
      },
      "source": [
        "#Stop spark context, only apply for AppName Test_spark\n",
        "spark.stop()"
      ],
      "execution_count": 9,
      "outputs": []
    },
    {
      "cell_type": "code",
      "metadata": {
        "id": "aFW8ZJvPym8h",
        "colab": {
          "base_uri": "https://localhost:8080/"
        },
        "outputId": "3ee28148-b87b-4904-e646-769f27447a91"
      },
      "source": [
        "# **Download Exam Files**\n",
        "!wget http://files.grouplens.org/datasets/movielens/ml-latest-small.zip\n",
        "!unzip ml-latest-small.zip\n",
        "!rm -r ml-latest-small.zip\n",
        "!echo \"------------------------------------ List of files ------------------------------------\"\n",
        "!ls -l ml-latest-small/"
      ],
      "execution_count": 10,
      "outputs": [
        {
          "output_type": "stream",
          "name": "stdout",
          "text": [
            "--2023-03-27 02:41:07--  http://files.grouplens.org/datasets/movielens/ml-latest-small.zip\n",
            "Resolving files.grouplens.org (files.grouplens.org)... 128.101.65.152\n",
            "Connecting to files.grouplens.org (files.grouplens.org)|128.101.65.152|:80... connected.\n",
            "HTTP request sent, awaiting response... 200 OK\n",
            "Length: 978202 (955K) [application/zip]\n",
            "Saving to: ‘ml-latest-small.zip’\n",
            "\n",
            "ml-latest-small.zip 100%[===================>] 955.28K  4.55MB/s    in 0.2s    \n",
            "\n",
            "2023-03-27 02:41:07 (4.55 MB/s) - ‘ml-latest-small.zip’ saved [978202/978202]\n",
            "\n",
            "Archive:  ml-latest-small.zip\n",
            "replace ml-latest-small/links.csv? [y]es, [n]o, [A]ll, [N]one, [r]ename: n\n",
            "replace ml-latest-small/tags.csv? [y]es, [n]o, [A]ll, [N]one, [r]ename: n\n",
            "replace ml-latest-small/ratings.csv? [y]es, [n]o, [A]ll, [N]one, [r]ename: n\n",
            "replace ml-latest-small/README.txt? [y]es, [n]o, [A]ll, [N]one, [r]ename: n\n",
            "replace ml-latest-small/movies.csv? [y]es, [n]o, [A]ll, [N]one, [r]ename: n\n",
            "------------------------------------ List of files ------------------------------------\n",
            "total 3516\n",
            "-rw-r--r-- 1 root root  197979 Sep 26  2018 links.csv\n",
            "-rw-r--r-- 1 root root  494431 Sep 26  2018 movies.csv\n",
            "-rw-r--r-- 1 root root  284343 Mar 27 02:29 movies.parquet\n",
            "-rw-r--r-- 1 root root 2483723 Sep 26  2018 ratings.csv\n",
            "-rw-r--r-- 1 root root    8342 Sep 26  2018 README.txt\n",
            "-rw-r--r-- 1 root root  118660 Sep 26  2018 tags.csv\n"
          ]
        }
      ]
    },
    {
      "cell_type": "code",
      "metadata": {
        "id": "NuTatSfNzU7Y"
      },
      "source": [
        "from pyspark import SparkContext, SparkConf\n",
        "import pyspark.sql.functions as f\n",
        "\n",
        "spark = SparkSession.builder \\\n",
        "    .master(\"local[*]\") \\\n",
        "    .appName(\"MovieRatings-Quiz\") \\\n",
        "    .getOrCreate()\n",
        "\n",
        "sc = spark.sparkContext"
      ],
      "execution_count": 11,
      "outputs": []
    },
    {
      "cell_type": "markdown",
      "metadata": {
        "id": "LCJp1n4j4ZAO"
      },
      "source": [
        "#Let's Start"
      ]
    },
    {
      "cell_type": "markdown",
      "metadata": {
        "id": "SZ75NhS84dsL"
      },
      "source": [
        "Load All Files.\n"
      ]
    },
    {
      "cell_type": "code",
      "metadata": {
        "id": "Qg_tdO6y4q2z"
      },
      "source": [
        "df_links = spark.read.csv('/content/ml-latest-small/links.csv',header=True,escape=\"\\\"\")\n",
        "df_movies = spark.read.csv('/content/ml-latest-small/movies.csv',header=True,escape=\"\\\"\")\n",
        "df_ratings = spark.read.csv('/content/ml-latest-small/ratings.csv',header=True,escape=\"\\\"\")\n",
        "df_tags = spark.read.csv('/content/ml-latest-small/tags.csv',header=True,escape=\"\\\"\")"
      ],
      "execution_count": 12,
      "outputs": []
    },
    {
      "cell_type": "markdown",
      "metadata": {
        "id": "KvovRt5u4qPb"
      },
      "source": [
        "Show the number of records for each File"
      ]
    },
    {
      "cell_type": "code",
      "metadata": {
        "id": "B9ZzqRMm42Gy",
        "colab": {
          "base_uri": "https://localhost:8080/"
        },
        "outputId": "30c4932f-8b25-47fc-9115-b36b3a43de65"
      },
      "source": [
        "print(\"df_links = \" + str(df_links.count()))\n",
        "print(\"df_movies = \" + str(df_movies.count()))\n",
        "print(\"df_ratings = \" + str(df_ratings.count()))\n",
        "print(\"df_tags = \" + str(df_tags.count()))"
      ],
      "execution_count": 13,
      "outputs": [
        {
          "output_type": "stream",
          "name": "stdout",
          "text": [
            "df_links = 9742\n",
            "df_movies = 9742\n",
            "df_ratings = 100836\n",
            "df_tags = 3683\n"
          ]
        }
      ]
    },
    {
      "cell_type": "markdown",
      "metadata": {
        "id": "0DQ3qsGn4pcU"
      },
      "source": [
        "Work with Datasets"
      ]
    },
    {
      "cell_type": "code",
      "metadata": {
        "id": "uLjggxAQGa_l"
      },
      "source": [
        "from pyspark.sql.functions import *\n",
        "from pyspark.sql.types import *"
      ],
      "execution_count": 14,
      "outputs": []
    },
    {
      "cell_type": "code",
      "source": [
        "df_tags.printSchema()"
      ],
      "metadata": {
        "colab": {
          "base_uri": "https://localhost:8080/"
        },
        "id": "wdv9B4iDzRUN",
        "outputId": "67016b7c-6efd-4f1b-8e85-1fc41b4e8bf4"
      },
      "execution_count": 15,
      "outputs": [
        {
          "output_type": "stream",
          "name": "stdout",
          "text": [
            "root\n",
            " |-- userId: string (nullable = true)\n",
            " |-- movieId: string (nullable = true)\n",
            " |-- tag: string (nullable = true)\n",
            " |-- timestamp: string (nullable = true)\n",
            "\n"
          ]
        }
      ]
    },
    {
      "cell_type": "code",
      "source": [
        "df_movies.printSchema()"
      ],
      "metadata": {
        "colab": {
          "base_uri": "https://localhost:8080/"
        },
        "id": "Kmy3jhzJ4Fm0",
        "outputId": "9c41cc7b-5a27-4d06-cc15-41708f0b6532"
      },
      "execution_count": 16,
      "outputs": [
        {
          "output_type": "stream",
          "name": "stdout",
          "text": [
            "root\n",
            " |-- movieId: string (nullable = true)\n",
            " |-- title: string (nullable = true)\n",
            " |-- genres: string (nullable = true)\n",
            "\n"
          ]
        }
      ]
    },
    {
      "cell_type": "code",
      "source": [
        "df_ratings.printSchema()"
      ],
      "metadata": {
        "colab": {
          "base_uri": "https://localhost:8080/"
        },
        "id": "RLTBIzLQ4gU8",
        "outputId": "37eeda99-a4f5-493e-89b4-11a0f901da1d"
      },
      "execution_count": 17,
      "outputs": [
        {
          "output_type": "stream",
          "name": "stdout",
          "text": [
            "root\n",
            " |-- userId: string (nullable = true)\n",
            " |-- movieId: string (nullable = true)\n",
            " |-- rating: string (nullable = true)\n",
            " |-- timestamp: string (nullable = true)\n",
            "\n"
          ]
        }
      ]
    },
    {
      "cell_type": "code",
      "source": [
        "df_mr_joined = df_movies.join(df_ratings, on='movieId',how='inner')"
      ],
      "metadata": {
        "id": "kaP85Vx547Kr"
      },
      "execution_count": 18,
      "outputs": []
    },
    {
      "cell_type": "code",
      "source": [
        "df_mr_joined.printSchema()"
      ],
      "metadata": {
        "colab": {
          "base_uri": "https://localhost:8080/"
        },
        "id": "_8k3DXpN60Mj",
        "outputId": "6f05b1cb-2f46-4aae-8e53-cb461a4f1366"
      },
      "execution_count": 19,
      "outputs": [
        {
          "output_type": "stream",
          "name": "stdout",
          "text": [
            "root\n",
            " |-- movieId: string (nullable = true)\n",
            " |-- title: string (nullable = true)\n",
            " |-- genres: string (nullable = true)\n",
            " |-- userId: string (nullable = true)\n",
            " |-- rating: string (nullable = true)\n",
            " |-- timestamp: string (nullable = true)\n",
            "\n"
          ]
        }
      ]
    },
    {
      "cell_type": "code",
      "source": [
        "df_mr_joined.show(5,0)"
      ],
      "metadata": {
        "colab": {
          "base_uri": "https://localhost:8080/"
        },
        "id": "O_0DIEZj60Pt",
        "outputId": "7b2397bb-3c4b-4eb0-d4b4-64ee8b257b82"
      },
      "execution_count": 20,
      "outputs": [
        {
          "output_type": "stream",
          "name": "stdout",
          "text": [
            "+-------+---------------------------+-------------------------------------------+------+------+---------+\n",
            "|movieId|title                      |genres                                     |userId|rating|timestamp|\n",
            "+-------+---------------------------+-------------------------------------------+------+------+---------+\n",
            "|1      |Toy Story (1995)           |Adventure|Animation|Children|Comedy|Fantasy|1     |4.0   |964982703|\n",
            "|3      |Grumpier Old Men (1995)    |Comedy|Romance                             |1     |4.0   |964981247|\n",
            "|6      |Heat (1995)                |Action|Crime|Thriller                      |1     |4.0   |964982224|\n",
            "|47     |Seven (a.k.a. Se7en) (1995)|Mystery|Thriller                           |1     |5.0   |964983815|\n",
            "|50     |Usual Suspects, The (1995) |Crime|Mystery|Thriller                     |1     |5.0   |964982931|\n",
            "+-------+---------------------------+-------------------------------------------+------+------+---------+\n",
            "only showing top 5 rows\n",
            "\n"
          ]
        }
      ]
    },
    {
      "cell_type": "code",
      "source": [
        "# Se que esta no es la forma correcta, porque si fueran muchas mas filas seria muy tedioso buscar.\n",
        "# Sin Embargo, mas abajo lo haré de nuevo con la sentencia like()\n",
        "filtered_df = df_mr_joined.filter((col('userId') == '264'))"
      ],
      "metadata": {
        "id": "uCtLsXr26zBd"
      },
      "execution_count": 21,
      "outputs": []
    },
    {
      "cell_type": "code",
      "source": [
        "filtered_df.show()"
      ],
      "metadata": {
        "colab": {
          "base_uri": "https://localhost:8080/"
        },
        "id": "tBxy5BDL6zFy",
        "outputId": "e3f94e66-adc9-466e-899c-aa00e04ce7b0"
      },
      "execution_count": 22,
      "outputs": [
        {
          "output_type": "stream",
          "name": "stdout",
          "text": [
            "+-------+--------------------+--------------------+------+------+----------+\n",
            "|movieId|               title|              genres|userId|rating| timestamp|\n",
            "+-------+--------------------+--------------------+------+------+----------+\n",
            "|      1|    Toy Story (1995)|Adventure|Animati...|   264|   4.0|1136978964|\n",
            "|     32|Twelve Monkeys (a...|Mystery|Sci-Fi|Th...|   264|   1.0|1136979041|\n",
            "|     48|   Pocahontas (1995)|Animation|Childre...|   264|   3.0|1136978326|\n",
            "|    110|   Braveheart (1995)|    Action|Drama|War|   264|   2.5|1136978677|\n",
            "|    150|    Apollo 13 (1995)|Adventure|Drama|IMAX|   264|   4.0|1136978697|\n",
            "|    151|      Rob Roy (1995)|Action|Drama|Roma...|   264|   2.5|1136978254|\n",
            "|    253|Interview with th...|        Drama|Horror|   264|   4.0|1136979096|\n",
            "|    316|     Stargate (1994)|Action|Adventure|...|   264|   3.5|1136979048|\n",
            "|    329|Star Trek: Genera...|Adventure|Drama|S...|   264|   4.5|1136979078|\n",
            "|    356| Forrest Gump (1994)|Comedy|Drama|Roma...|   264|   3.5|1136978982|\n",
            "|    364|Lion King, The (1...|Adventure|Animati...|   264|   3.5|1136978642|\n",
            "|    367|    Mask, The (1994)|Action|Comedy|Cri...|   264|   4.0|1136979112|\n",
            "|    480|Jurassic Park (1993)|Action|Adventure|...|   264|   2.0|1136978631|\n",
            "|    527|Schindler's List ...|           Drama|War|   264|   4.0|1136979020|\n",
            "|    595|Beauty and the Be...|Animation|Childre...|   264|   4.0|1136978553|\n",
            "|    648|Mission: Impossib...|Action|Adventure|...|   264|   3.0|1136979056|\n",
            "|    653|  Dragonheart (1996)|Action|Adventure|...|   264|   2.5|1136978212|\n",
            "|    780|Independence Day ...|Action|Adventure|...|   264|   3.5|1136978999|\n",
            "|    783|Hunchback of Notr...|Animation|Childre...|   264|   4.0|1136978499|\n",
            "|   1023|Winnie the Pooh a...|Animation|Childre...|   264|   1.5|1136978598|\n",
            "+-------+--------------------+--------------------+------+------+----------+\n",
            "only showing top 20 rows\n",
            "\n"
          ]
        }
      ]
    },
    {
      "cell_type": "code",
      "source": [
        "# Esta es la manera correcta de encontrar el resultado.\n",
        "filtered_df_2 = df_mr_joined.filter((col('title').like('%Apollo 13%')) & (col('userId') == 264))"
      ],
      "metadata": {
        "id": "F2tZqAbe6zL_"
      },
      "execution_count": 23,
      "outputs": []
    },
    {
      "cell_type": "code",
      "source": [
        "filtered_df_2.show()"
      ],
      "metadata": {
        "colab": {
          "base_uri": "https://localhost:8080/"
        },
        "id": "k07P0vVBItLy",
        "outputId": "b421a177-7df6-4a8d-ee53-ac44f6a49534"
      },
      "execution_count": 24,
      "outputs": [
        {
          "output_type": "stream",
          "name": "stdout",
          "text": [
            "+-------+----------------+--------------------+------+------+----------+\n",
            "|movieId|           title|              genres|userId|rating| timestamp|\n",
            "+-------+----------------+--------------------+------+------+----------+\n",
            "|    150|Apollo 13 (1995)|Adventure|Drama|IMAX|   264|   4.0|1136978697|\n",
            "+-------+----------------+--------------------+------+------+----------+\n",
            "\n"
          ]
        }
      ]
    },
    {
      "cell_type": "code",
      "source": [
        "filtered_df_3 = df_mr_joined.filter(col('userId') == 189).orderBy(desc('rating')).limit(10)"
      ],
      "metadata": {
        "id": "WrS0V9LuNR7U"
      },
      "execution_count": 25,
      "outputs": []
    },
    {
      "cell_type": "code",
      "source": [
        "filtered_df_3.show()"
      ],
      "metadata": {
        "colab": {
          "base_uri": "https://localhost:8080/"
        },
        "id": "2387KrGZNR-a",
        "outputId": "3e5f7076-9b14-4e50-e273-fde6226b51c5"
      },
      "execution_count": 26,
      "outputs": [
        {
          "output_type": "stream",
          "name": "stdout",
          "text": [
            "+-------+--------------------+--------------------+------+------+----------+\n",
            "|movieId|               title|              genres|userId|rating| timestamp|\n",
            "+-------+--------------------+--------------------+------+------+----------+\n",
            "|  58559|Dark Knight, The ...|Action|Crime|Dram...|   189|   5.0|1439465067|\n",
            "|  54286|Bourne Ultimatum,...|Action|Crime|Thri...|   189|   4.5|1439465114|\n",
            "|    527|Schindler's List ...|           Drama|War|   189|   4.5|1439465064|\n",
            "|  68954|           Up (2009)|Adventure|Animati...|   189|   4.5|1439465136|\n",
            "|  79132|    Inception (2010)|Action|Crime|Dram...|   189|   4.5|1439465099|\n",
            "|    318|Shawshank Redempt...|         Crime|Drama|   189|   4.0|1439465054|\n",
            "|    593|Silence of the La...|Crime|Horror|Thri...|   189|   4.0|1439465116|\n",
            "|    356| Forrest Gump (1994)|Comedy|Drama|Roma...|   189|   4.0|1439465080|\n",
            "|   1265|Groundhog Day (1993)|Comedy|Fantasy|Ro...|   189|   4.0|1439465112|\n",
            "|   2571|  Matrix, The (1999)|Action|Sci-Fi|Thr...|   189|   4.0|1439465057|\n",
            "+-------+--------------------+--------------------+------+------+----------+\n",
            "\n"
          ]
        }
      ]
    },
    {
      "cell_type": "code",
      "source": [
        "filtered_df_4 = df_mr_joined.filter(col('title').like('%Fight Club%')).agg({'rating': 'min'})"
      ],
      "metadata": {
        "id": "hrlRtUuQNSBa"
      },
      "execution_count": 27,
      "outputs": []
    },
    {
      "cell_type": "code",
      "source": [
        "filtered_df_4.show()"
      ],
      "metadata": {
        "colab": {
          "base_uri": "https://localhost:8080/"
        },
        "id": "5TH2iZ1eNSET",
        "outputId": "71565f0a-63c3-4545-b776-2d370c5d3e0c"
      },
      "execution_count": 28,
      "outputs": [
        {
          "output_type": "stream",
          "name": "stdout",
          "text": [
            "+-----------+\n",
            "|min(rating)|\n",
            "+-----------+\n",
            "|        0.5|\n",
            "+-----------+\n",
            "\n"
          ]
        }
      ]
    },
    {
      "cell_type": "code",
      "source": [
        "df_mr_joined_2 = df_movies.join(df_tags, on='movieId',how='inner')"
      ],
      "metadata": {
        "id": "2B2lPSqMNSHC"
      },
      "execution_count": 29,
      "outputs": []
    },
    {
      "cell_type": "code",
      "source": [
        "df_mr_joined_2.printSchema()"
      ],
      "metadata": {
        "colab": {
          "base_uri": "https://localhost:8080/"
        },
        "id": "RYNZy60JNSJz",
        "outputId": "4240ec1d-0367-4ec3-c6a0-3adc0099f5a5"
      },
      "execution_count": 30,
      "outputs": [
        {
          "output_type": "stream",
          "name": "stdout",
          "text": [
            "root\n",
            " |-- movieId: string (nullable = true)\n",
            " |-- title: string (nullable = true)\n",
            " |-- genres: string (nullable = true)\n",
            " |-- userId: string (nullable = true)\n",
            " |-- tag: string (nullable = true)\n",
            " |-- timestamp: string (nullable = true)\n",
            "\n"
          ]
        }
      ]
    },
    {
      "cell_type": "code",
      "source": [
        "# el metodo contains() tambien me permite ver si una palabra o frase se encuentra dentro de una cadena de texto String.\n",
        "filtered_df_5 = df_mr_joined_2.filter((col('title').contains('Matrix')) & (col('userId') == '474'))"
      ],
      "metadata": {
        "id": "m3MxS7KtNSMd"
      },
      "execution_count": 31,
      "outputs": []
    },
    {
      "cell_type": "code",
      "source": [
        "filtered_df_5.show()"
      ],
      "metadata": {
        "colab": {
          "base_uri": "https://localhost:8080/"
        },
        "id": "8qTqwveXNSPC",
        "outputId": "79571c50-d9b5-4a5b-d64f-ecc5648fbc4a"
      },
      "execution_count": 32,
      "outputs": [
        {
          "output_type": "stream",
          "name": "stdout",
          "text": [
            "+-------+------------------+--------------------+------+------------------+----------+\n",
            "|movieId|             title|              genres|userId|               tag| timestamp|\n",
            "+-------+------------------+--------------------+------+------------------+----------+\n",
            "|   2571|Matrix, The (1999)|Action|Sci-Fi|Thr...|   474|alternate universe|1137204991|\n",
            "+-------+------------------+--------------------+------+------------------+----------+\n",
            "\n"
          ]
        }
      ]
    },
    {
      "cell_type": "code",
      "source": [
        "# Aplicamos filtro por el usuario 103\n",
        "filtered_df_6 = df_mr_joined_2.filter(col('userId') == 103)\n",
        "\n",
        "# Seleccionamos los id de las peliculas únicas a las que el user 103 ha puesto un tag\n",
        "movies_list = filtered_df_6.select('movieId').distinct()\n",
        "\n",
        "# Se imprimen los nombres\n",
        "for row in movies_list.collect():\n",
        "  title = filtered_df_6.filter(col('movieId') == row[0]).select('title').first()[0]\n",
        "  print(title)"
      ],
      "metadata": {
        "colab": {
          "base_uri": "https://localhost:8080/"
        },
        "id": "KUELeeKGNSUt",
        "outputId": "87250cbc-f9d3-4ff2-8b84-80280a9487ff"
      },
      "execution_count": 33,
      "outputs": [
        {
          "output_type": "stream",
          "name": "stdout",
          "text": [
            "Pulp Fiction (1994)\n",
            "Star Wars: Episode IV - A New Hope (1977)\n"
          ]
        }
      ]
    },
    {
      "cell_type": "code",
      "source": [
        "# Buscando las pelicula con mayor cantidad de tags con el nuevo dataset creado a partir del join\n",
        "\n",
        "tag_counts = df_mr_joined_2.groupBy('movieId').count()\n",
        "\n",
        "tag_counts_ordered = tag_counts.orderBy(desc('count'))\n",
        "\n",
        "tag_counts_ordered.show(10,0)\n",
        "\n",
        "most_tagged_movie = tag_counts_ordered.select('movieId').first()[0]\n",
        "\n",
        "print(most_tagged_movie)"
      ],
      "metadata": {
        "colab": {
          "base_uri": "https://localhost:8080/"
        },
        "id": "AYyQAS7QzWr1",
        "outputId": "45336049-dbad-448e-d7da-61eb7e4325f5"
      },
      "execution_count": 34,
      "outputs": [
        {
          "output_type": "stream",
          "name": "stdout",
          "text": [
            "+-------+-----+\n",
            "|movieId|count|\n",
            "+-------+-----+\n",
            "|296    |181  |\n",
            "|2959   |54   |\n",
            "|924    |41   |\n",
            "|293    |35   |\n",
            "|7361   |34   |\n",
            "|1732   |32   |\n",
            "|4878   |29   |\n",
            "|79132  |26   |\n",
            "|260    |26   |\n",
            "|135536 |19   |\n",
            "+-------+-----+\n",
            "only showing top 10 rows\n",
            "\n",
            "296\n"
          ]
        }
      ]
    },
    {
      "cell_type": "code",
      "source": [
        "movie_title = df_mr_joined_2.filter(col('movieId') == most_tagged_movie).select('title').first()[0]\n",
        "print(movie_title)"
      ],
      "metadata": {
        "colab": {
          "base_uri": "https://localhost:8080/"
        },
        "id": "uhUa_zg7zW5p",
        "outputId": "9a6ed193-66aa-4563-c98c-3e25714356f1"
      },
      "execution_count": 35,
      "outputs": [
        {
          "output_type": "stream",
          "name": "stdout",
          "text": [
            "Pulp Fiction (1994)\n"
          ]
        }
      ]
    },
    {
      "cell_type": "code",
      "source": [
        "# Buscando la pelicula con la mayor cantidad de tags, utilizando los dataset por separado.\n",
        "most_tagged_movie2 = df_tags.groupBy('movieId').count().orderBy(desc('count')).first()['movieId']\n",
        "movie_title2 = df_movies.filter(col('movieId') == most_tagged_movie).select('title').first()[0]\n",
        "\n",
        "print(movie_title2)"
      ],
      "metadata": {
        "colab": {
          "base_uri": "https://localhost:8080/"
        },
        "id": "GZgEuxYDzXAy",
        "outputId": "487573d4-f99f-426b-c059-790f052aa8a7"
      },
      "execution_count": 36,
      "outputs": [
        {
          "output_type": "stream",
          "name": "stdout",
          "text": [
            "Pulp Fiction (1994)\n"
          ]
        }
      ]
    },
    {
      "cell_type": "code",
      "source": [
        "most_active_user = df_mr_joined_2.groupBy('userId').count().orderBy(desc('count')).first()['userId']\n",
        "print(most_active_user)"
      ],
      "metadata": {
        "colab": {
          "base_uri": "https://localhost:8080/"
        },
        "id": "0V59bRoU4xW9",
        "outputId": "a8197101-6621-4ff3-b7d5-5f4cc5e018a1"
      },
      "execution_count": 37,
      "outputs": [
        {
          "output_type": "stream",
          "name": "stdout",
          "text": [
            "474\n"
          ]
        }
      ]
    },
    {
      "cell_type": "code",
      "source": [
        "most_active_user2 = df_tags.groupBy('userId').count().orderBy(desc('count')).first()['userId']\n",
        "print(most_active_user2)"
      ],
      "metadata": {
        "colab": {
          "base_uri": "https://localhost:8080/"
        },
        "id": "qudyAXem4xZm",
        "outputId": "7ece3785-98c9-419a-daea-052e673e2798"
      },
      "execution_count": 38,
      "outputs": [
        {
          "output_type": "stream",
          "name": "stdout",
          "text": [
            "474\n"
          ]
        }
      ]
    },
    {
      "cell_type": "code",
      "source": [
        "num_ratings = df_ratings.filter(df_ratings.userId == 448).count()\n",
        "print(num_ratings)"
      ],
      "metadata": {
        "colab": {
          "base_uri": "https://localhost:8080/"
        },
        "id": "rQoOZq174xct",
        "outputId": "c2a441b7-9aeb-4170-d060-ace6a04fb800"
      },
      "execution_count": 39,
      "outputs": [
        {
          "output_type": "stream",
          "name": "stdout",
          "text": [
            "1864\n"
          ]
        }
      ]
    },
    {
      "cell_type": "code",
      "source": [
        "# Guardar los datos del archivo de películas en formato Parquet\n",
        "df_movies.write.format('parquet').mode('overwrite').save('movies.parquet')\n",
        "\n",
        "# Obtener el tamaño aproximado del archivo guardado en kilobytes\n",
        "import os\n",
        "size = os.path.getsize('movies.parquet')\n",
        "size_kb = size / 1024\n",
        "print('El tamaño aproximado del archivo movies en formato Parquet es:', size_kb, 'KB')"
      ],
      "metadata": {
        "colab": {
          "base_uri": "https://localhost:8080/"
        },
        "id": "rqFTTLuY4xe7",
        "outputId": "76186d14-b670-4261-bde6-4db613d6a505"
      },
      "execution_count": 40,
      "outputs": [
        {
          "output_type": "stream",
          "name": "stdout",
          "text": [
            "El tamaño aproximado del archivo movies en formato Parquet es: 4.0 KB\n"
          ]
        }
      ]
    },
    {
      "cell_type": "code",
      "source": [
        "df_tags.write.format('parquet').mode('overwrite').save('tags.parquet')\n",
        "\n",
        "size = os.path.getsize('tags.parquet') / 1024\n",
        "print('El tamaño aproximado del archivo tags en formato Parquet es:', size, 'KB')"
      ],
      "metadata": {
        "colab": {
          "base_uri": "https://localhost:8080/"
        },
        "id": "M057LpmbuRtz",
        "outputId": "fe154af2-3d10-40ad-d4a7-55c6aca6a001"
      },
      "execution_count": 41,
      "outputs": [
        {
          "output_type": "stream",
          "name": "stdout",
          "text": [
            "El tamaño aproximado del archivo tags en formato Parquet es: 4.0 KB\n"
          ]
        }
      ]
    },
    {
      "cell_type": "code",
      "source": [
        "##import pandas as pd\n",
        "##import os\n",
        "\n",
        "##df_movies_pd = pd.read_csv('/content/ml-latest-small/movies.csv')\n",
        "\n",
        "# Guardar el archivo en formato parquet\n",
        "##df_movies_pd.to_parquet('/content/ml-latest-small/movies.parquet')\n",
        "\n",
        "# Obtener el tamaño aproximado del archivo en kilobytes\n",
        "##file_size = os.path.getsize('movies.parquet') / 1024\n",
        "##print(f\"The approximate size of the new file is: {file_size} KB\")\n"
      ],
      "metadata": {
        "id": "HXS1EuIivmaT"
      },
      "execution_count": 42,
      "outputs": []
    },
    {
      "cell_type": "code",
      "source": [
        "movie_view = df_movies.createOrReplaceTempView('movies')\n",
        "rating_view = df_ratings.createOrReplaceTempView('ratings')"
      ],
      "metadata": {
        "id": "rdcl8VzbzXKW"
      },
      "execution_count": 43,
      "outputs": []
    },
    {
      "cell_type": "code",
      "source": [
        "df_sql = spark.sql('SELECT movies.movieId, title, genres, userId, rating, timestamp FROM movies INNER JOIN ratings on movies.movieId = ratings.movieId Where rating > 4.0 ')"
      ],
      "metadata": {
        "id": "YOhHEEWtMi7g"
      },
      "execution_count": 44,
      "outputs": []
    },
    {
      "cell_type": "code",
      "source": [
        "df_sql.repartition(1).write.format('parquet').mode('overwrite').save('moves-rating.parquet')"
      ],
      "metadata": {
        "id": "oXOYmEYIMjAD"
      },
      "execution_count": 45,
      "outputs": []
    },
    {
      "cell_type": "code",
      "source": [
        "mr_parquet = spark.read.parquet('moves-rating.parquet')"
      ],
      "metadata": {
        "id": "CNE1k50czXNv"
      },
      "execution_count": 46,
      "outputs": []
    },
    {
      "cell_type": "code",
      "source": [
        "num_records = mr_parquet.count()\n",
        "print(num_records)"
      ],
      "metadata": {
        "colab": {
          "base_uri": "https://localhost:8080/"
        },
        "id": "Y20v00x2NgBB",
        "outputId": "df020c75-0240-4a61-e4e9-ae967a5f3c61"
      },
      "execution_count": 47,
      "outputs": [
        {
          "output_type": "stream",
          "name": "stdout",
          "text": [
            "21762\n"
          ]
        }
      ]
    },
    {
      "cell_type": "code",
      "source": [
        "shawshank_ratings = mr_parquet.filter(col('title').contains('Shawshank Redemption'))\n",
        "\n",
        "avg_rating = shawshank_ratings.agg(avg('rating')).collect()[0][0]\n",
        "print(avg_rating)"
      ],
      "metadata": {
        "colab": {
          "base_uri": "https://localhost:8080/"
        },
        "id": "I8MKnzmWOHIv",
        "outputId": "52d8282f-1e14-488c-f529-b38416595cf5"
      },
      "execution_count": 48,
      "outputs": [
        {
          "output_type": "stream",
          "name": "stdout",
          "text": [
            "4.878712871287129\n"
          ]
        }
      ]
    },
    {
      "cell_type": "code",
      "metadata": {
        "id": "kd8Td95XAmvV"
      },
      "source": [
        "sc.stop()"
      ],
      "execution_count": 49,
      "outputs": []
    }
  ]
}